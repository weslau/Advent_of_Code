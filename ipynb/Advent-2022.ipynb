{
 "cells": [
  {
   "cell_type": "markdown",
   "metadata": {},
   "source": [
    "<div style=\"text-align: right\" align=\"right\"><i>Wesley Lau<br>December 1–25, 2022</i></div>\n",
    "\n",
    "# Advent of Code 2022\n",
    "\n",
    "\n",
    "\n",
    "# Day 0: Preparations\n",
    "\n",
    "Imports from past AoC years:"
   ]
  },
  {
   "cell_type": "code",
   "execution_count": 1,
   "metadata": {},
   "outputs": [],
   "source": [
    "from __future__  import annotations\n",
    "from collections import Counter, defaultdict, namedtuple, deque\n",
    "from itertools   import permutations, combinations, chain, count as count_from, product as cross_product\n",
    "from typing      import *\n",
    "from statistics  import mean, median\n",
    "from math        import ceil, inf\n",
    "from functools   import lru_cache\n",
    "import matplotlib.pyplot as plt\n",
    "import re"
   ]
  },
  {
   "cell_type": "markdown",
   "metadata": {},
   "source": [
    "Each day's work will consist of three tasks, denoted by three bulleted section:\n",
    "- **Input**: Parse the day's input file.  I will  use the function `parse(day, parser, sep)`, which:\n",
    "   - Reads the input file for `day`.\n",
    "   - Prints out the first few lines of the file (to remind me, and the notebook reader, what's in the file).\n",
    "   - Breaks the file into a sequence of *entries* separated by `sep` (default newline).\n",
    "   - Applies `parser` to each entry and returns the results as a tuple.\n",
    "       - Useful parser functions include `ints`, `digits`, `atoms`, `words`, and the built-ins `int` and `str`.\n",
    "- **Part 1**: Understand the day's instructions and:\n",
    "   - Write code to compute the answer to Part 1.\n",
    "   - Record the answer with the `answer` function, which also serves as a unit test when the notebook is re-run.\n",
    "- **Part 2**: Understand the second part of the instructions and:\n",
    "   - Write code and record `answer` for Part 2.\n",
    "   \n",
    "Occasionally I'll introduce a **Part 3** where I explore beyond the instructions.\n",
    "\n",
    "Here are the helper functions for `answer` and `parse`:"
   ]
  },
  {
   "cell_type": "code",
   "execution_count": 2,
   "metadata": {},
   "outputs": [],
   "source": [
    "def answer(puzzle_number, got, expected) -> bool:\n",
    "    \"\"\"Verify the answer we got was the expected answer.\"\"\"\n",
    "    assert got == expected, f'For {puzzle_number}, expected {expected} but got {got}.'\n",
    "    return True\n",
    "\n",
    "def parse(day, parser=str, sep='\\n', print_lines=7) -> tuple:\n",
    "    \"\"\"Split the day's input file into entries separated by `sep`, and apply `parser` to each.\"\"\"\n",
    "    fname = f'AOC2022/input{day}.txt'\n",
    "    text  = open(fname).read()\n",
    "    entries = mapt(parser, text.rstrip().split(sep))\n",
    "    if print_lines:\n",
    "        all_lines = text.splitlines()\n",
    "        lines = all_lines[:print_lines]\n",
    "        head = f'{fname} ➜ {len(text)} chars, {len(all_lines)} lines; first {len(lines)} lines:'\n",
    "        dash = \"-\" * 100\n",
    "        print(f'{dash}\\n{head}\\n{dash}')\n",
    "        for line in lines:\n",
    "            print(trunc(line))\n",
    "        print(f'{dash}\\nparse({day}) ➜ {len(entries)} entries:\\n'\n",
    "              f'{dash}\\n{trunc(str(entries))}\\n{dash}')\n",
    "    return entries\n",
    "\n",
    "def trunc(s: str, left=70, right=25, dots=' ... ') -> str: \n",
    "    \"\"\"All of string s if it fits; else left and right ends of s with dots in the middle.\"\"\"\n",
    "    dots = ' ... '\n",
    "    return s if len(s) <= left + right + len(dots) else s[:left] + dots + s[-right:]"
   ]
  },
  {
   "cell_type": "code",
   "execution_count": 3,
   "metadata": {},
   "outputs": [],
   "source": [
    "Char = str # Intended as the type of a one-character string\n",
    "Atom = Union[float, int, str]\n",
    "\n",
    "def ints(text: str) -> Tuple[int]:\n",
    "    \"\"\"A tuple of all the integers in text, ignoring non-number characters.\"\"\"\n",
    "    return mapt(int, re.findall(r'-?[0-9]+', text))\n",
    "\n",
    "def digits(text: str) -> Tuple[int]:\n",
    "    \"\"\"A tuple of all the digits in text (as ints 0–9), ignoring non-digit characters.\"\"\"\n",
    "    return mapt(int, re.findall(r'[0-9]', text))\n",
    "\n",
    "def words(text: str) -> List[str]:\n",
    "    \"\"\"A list of all the alphabetic words in text, ignoring non-letters.\"\"\"\n",
    "    return re.findall(r'[a-zA-Z]+', text)\n",
    "\n",
    "def atoms(text: str) -> Tuple[Atom]:\n",
    "    \"\"\"A tuple of all the atoms (numbers or symbol names) in text.\"\"\"\n",
    "    return mapt(atom, re.findall(r'[a-zA-Z_0-9.+-]+', text))\n",
    "\n",
    "def atom(text: str) -> Atom:\n",
    "    \"\"\"Parse text into a single float or int or str.\"\"\"\n",
    "    try:\n",
    "        x = float(text)\n",
    "        return round(x) if round(x) == x else x\n",
    "    except ValueError:\n",
    "        return text\n",
    "    \n",
    "def mapt(fn, *args) -> tuple:\n",
    "    \"\"\"map(fn, *args) and return the result as a tuple.\"\"\"\n",
    "    return tuple(map(fn, *args))"
   ]
  },
  {
   "cell_type": "markdown",
   "metadata": {},
   "source": [
    "A few additional  utility functions that I have used in the past:"
   ]
  },
  {
   "cell_type": "code",
   "execution_count": 4,
   "metadata": {},
   "outputs": [],
   "source": [
    "def quantify(iterable, pred=bool) -> int:\n",
    "    \"\"\"Count the number of items in iterable for which pred is true.\"\"\"\n",
    "    return sum(1 for item in iterable if pred(item))\n",
    "\n",
    "class multimap(defaultdict):\n",
    "    \"\"\"A mapping of {key: [val1, val2, ...]}.\"\"\"\n",
    "    def __init__(self, pairs: Iterable[tuple], symmetric=False):\n",
    "        \"\"\"Given (key, val) pairs, return {key: [val, ...], ...}.\n",
    "        If `symmetric` is True, treat (key, val) as (key, val) plus (val, key).\"\"\"\n",
    "        self.default_factory = list\n",
    "        for (key, val) in pairs:\n",
    "            self[key].append(val)\n",
    "            if symmetric:\n",
    "                self[val].append(key)\n",
    "\n",
    "def prod(numbers) -> float: # Will be math.prod in Python 3.8\n",
    "    \"\"\"The product formed by multiplying `numbers` together.\"\"\"\n",
    "    result = 1\n",
    "    for x in numbers:\n",
    "        result *= x\n",
    "    return result\n",
    "\n",
    "def total(counter: Counter) -> int: \n",
    "    \"\"\"The sum of all the counts in a Counter.\"\"\"\n",
    "    return sum(counter.values())\n",
    "\n",
    "def sign(x) -> int: return (0 if x == 0 else +1 if x > 0 else -1)\n",
    "\n",
    "def transpose(matrix) -> list: return list(zip(*matrix))\n",
    "\n",
    "def nothing(*args) -> None: return None\n",
    "\n",
    "cat     = ''.join\n",
    "flatten = chain.from_iterable\n",
    "cache   = lru_cache(None)"
   ]
  },
  {
   "cell_type": "markdown",
   "metadata": {},
   "source": [
    "Some past puzzles involve (x, y) points on a rectangular grid, so I'll define  `Point` and `Grid`:"
   ]
  },
  {
   "cell_type": "code",
   "execution_count": 5,
   "metadata": {},
   "outputs": [],
   "source": [
    "Point = Tuple[int, int] # (x, y) points on a grid\n",
    "\n",
    "neighbors4 = ((0, 1), (1, 0), (0, -1), (-1, 0))               \n",
    "neighbors8 = ((1, 1), (1, -1), (-1, 1), (-1, -1)) + neighbors4\n",
    "\n",
    "class Grid(dict):\n",
    "    \"\"\"A 2D grid, implemented as a mapping of {(x, y): cell_contents}.\"\"\"\n",
    "    def __init__(self, mapping=(), rows=(), neighbors=neighbors4):\n",
    "        \"\"\"Initialize with, e.g., either `mapping={(0, 0): 1, (1, 0): 2, ...}`,\n",
    "        or `rows=[(1, 2, 3), (4, 5, 6)].\n",
    "        `neighbors` is a collection of (dx, dy) deltas to neighboring points.`\"\"\"\n",
    "        self.update(mapping if mapping else\n",
    "                    {(x, y): val \n",
    "                     for y, row in enumerate(rows) \n",
    "                     for x, val in enumerate(row)})\n",
    "        self.width  = max(x for x, y in self) + 1\n",
    "        self.height = max(y for x, y in self) + 1\n",
    "        self.deltas = neighbors\n",
    "        \n",
    "    def copy(self) -> Grid: return Grid(self, neighbors=self.deltas)\n",
    "    \n",
    "    def neighbors(self, point) -> List[Point]:\n",
    "        \"\"\"Points on the grid that neighbor `point`.\"\"\"\n",
    "        x, y = point\n",
    "        return [(x+dx, y+dy) for (dx, dy) in self.deltas \n",
    "                if (x+dx, y+dy) in self]\n",
    "    \n",
    "    def to_rows(self) -> List[List[object]]:\n",
    "        \"\"\"The contents of the grid in a rectangular list of lists.\"\"\"\n",
    "        return [[self[x, y] for x in range(self.width)]\n",
    "                for y in range(self.height)]"
   ]
  },
  {
   "cell_type": "markdown",
   "metadata": {},
   "source": [
    "# [Day 1](https://adventofcode.com/2022/day/1): Calorie Counting\n",
    "\n",
    "\n",
    "- **Input**: Each entry in the input is an calorie count of a single food. a group of calorie counts, delimited by empty space, represents food owned by a unique entity\n"
   ]
  },
  {
   "cell_type": "code",
   "execution_count": 6,
   "metadata": {},
   "outputs": [
    {
     "data": {
      "text/plain": [
       "(13, 14)"
      ]
     },
     "execution_count": 6,
     "metadata": {},
     "output_type": "execute_result"
    }
   ],
   "source": [
    "# in1 = parse(2, int)\n",
    "## returns a tuple. NOTE, tuple is just an immutable list (can have more than 2 elements)\n",
    "\n",
    "tuple(map(int,[1,2,3]))\n",
    "\n",
    "mapt(int, re.findall(r'-?[0-9]+', '13\\n 14'))\n",
    "\n",
    "# parse(2,int) ##the same results as above\n",
    "\n",
    "# parse(1,atom) ##when blank lines are introduced, try atoms class\n"
   ]
  },
  {
   "cell_type": "code",
   "execution_count": 7,
   "metadata": {},
   "outputs": [
    {
     "name": "stdout",
     "output_type": "stream",
     "text": [
      "----------------------------------------------------------------------------------------------------\n",
      "AOC2022/input1.txt ➜ 10415 chars, 2234 lines; first 7 lines:\n",
      "----------------------------------------------------------------------------------------------------\n",
      "6750\n",
      "6538\n",
      "5292\n",
      "4635\n",
      "6855\n",
      "4137\n",
      "3840\n",
      "----------------------------------------------------------------------------------------------------\n",
      "parse(1) ➜ 2234 entries:\n",
      "----------------------------------------------------------------------------------------------------\n",
      "(6750, 6538, 5292, 4635, 6855, 4137, 3840, 4691, 1633, 6008, 2447, 144 ... , 5452, 7397, 7163, 4460)\n",
      "----------------------------------------------------------------------------------------------------\n"
     ]
    },
    {
     "data": {
      "text/plain": [
       "239"
      ]
     },
     "execution_count": 7,
     "metadata": {},
     "output_type": "execute_result"
    }
   ],
   "source": [
    "# allcalories = parse(1, ints)\n",
    "all_lines_list = parse(1,atom)\n",
    "type(all_lines_list[2])\n",
    "##we'll use their parser first for simple explaination, then write your own parser for text file\n",
    "isblank = [x=='' for x in all_lines_list]\n",
    "\n",
    "# somehow the last empty line doesn't make it into all_lines_list from parser, so number of blanks is off by 1\n",
    "num_elves = sum(isblank)+1\n",
    "num_elves"
   ]
  },
  {
   "cell_type": "markdown",
   "metadata": {},
   "source": [
    "- **Part 1**: which elf carries the largest group sum of calories?"
   ]
  },
  {
   "cell_type": "code",
   "execution_count": 8,
   "metadata": {},
   "outputs": [],
   "source": [
    "# # for each elve, assign a group of calories to that entity\n",
    "# list(range(1,10))\n",
    "\n",
    "# for i in range(1,num_elves+1):\n",
    "#     print(i)\n",
    "\n",
    "# go through every line from all_lines_list, and keep appending to index 0 of a list until empty string, then iterate to next index\n",
    "# list of lists struct where index of list is the elf's identifier\n",
    "counter = 0\n",
    "# w.o. the second brackets around None, it would be just a single list of elements (nonetype), cant append to element thats not a list\n",
    "list_elves = [[] for elf_index in range(num_elves)] #creates list of lists, each element is a list of len 1 (they have to be unique to elf_index and not just references to 1 thing)\n",
    "for entry in all_lines_list:\n",
    "    if entry == '':\n",
    "        counter+=1\n",
    "        continue\n",
    "    else:\n",
    "        list_elves[counter].append(entry)\n"
   ]
  },
  {
   "cell_type": "code",
   "execution_count": 9,
   "metadata": {},
   "outputs": [
    {
     "data": {
      "text/plain": [
       "70374"
      ]
     },
     "execution_count": 9,
     "metadata": {},
     "output_type": "execute_result"
    }
   ],
   "source": [
    "list_elves\n",
    "# for each element of list, sum them all up.\n",
    "\n",
    "# use map function\n",
    "elf_calorie_holding = list(map(sum,list_elves))\n",
    "# len(elf_calorie_holding)\n",
    "max(elf_calorie_holding)"
   ]
  },
  {
   "cell_type": "code",
   "execution_count": 10,
   "metadata": {},
   "outputs": [],
   "source": [
    "##group them into groups per elf (separated by empty string)\n",
    "\n",
    "# looked at input1.txt, and the number of empty lines is == to number of elves (theres an empty line after each grouping, including last)\n",
    "# num_elves = \n",
    "\n",
    "#rewrite the parser so its understandable to you"
   ]
  },
  {
   "attachments": {},
   "cell_type": "markdown",
   "metadata": {},
   "source": [
    "# [Day 2](https://adventofcode.com/2022/day/2): Rock paper scissors\n",
    "\n",
    "\n",
    "- **Input**: each row is other players input (ABC) and your projected response (XYZ)\n"
   ]
  },
  {
   "cell_type": "code",
   "execution_count": 11,
   "metadata": {},
   "outputs": [
    {
     "name": "stdout",
     "output_type": "stream",
     "text": [
      "----------------------------------------------------------------------------------------------------\n",
      "AOC2022/input2.txt ➜ 10000 chars, 2500 lines; first 7 lines:\n",
      "----------------------------------------------------------------------------------------------------\n",
      "A Z\n",
      "A Z\n",
      "A Z\n",
      "B Z\n",
      "C X\n",
      "A Z\n",
      "A Z\n",
      "----------------------------------------------------------------------------------------------------\n",
      "parse(2) ➜ 2500 entries:\n",
      "----------------------------------------------------------------------------------------------------\n",
      "(('A', 'Z'), ('A', 'Z'), ('A', 'Z'), ('B', 'Z'), ('C', 'X'), ('A', 'Z' ... , ('B', 'Z'), ('A', 'Z'))\n",
      "----------------------------------------------------------------------------------------------------\n"
     ]
    },
    {
     "data": {
      "text/plain": [
       "('A', 'Z')"
      ]
     },
     "execution_count": 11,
     "metadata": {},
     "output_type": "execute_result"
    }
   ],
   "source": [
    "# A for Rock, B for Paper, and C for Scissors\n",
    "# response: X for Rock, Y for Paper, and Z for Scissors\n",
    "# total score is the sum of your scores for each round. \n",
    "# The score for a single round is the score for the shape you selected (1 for Rock, 2 for Paper, and 3 for Scissors) plus the score for the outcome of the round (0 if you lost, 3 if the round was a draw, and 6 if you won).\n",
    "\n",
    "\n",
    "## rock ties rock, rock loses to paper (YOU WIN), rock wins scissors (YOU LOSE), repeat\n",
    "# paper ties paper, paper loses to scissors, paper wins rock...\n",
    "# use a modulo with a tuple and if statement to calculate if you won or lost\n",
    "\n",
    "list_matches = parse(2,atoms)\n",
    "list_matches[0]\n"
   ]
  },
  {
   "cell_type": "code",
   "execution_count": 12,
   "metadata": {},
   "outputs": [],
   "source": [
    "from itertools import cycle\n",
    "\n",
    "define_input = ['A', 'B', 'C']\n",
    "define_response = ['X', 'Y', 'Z']\n",
    "\n",
    "\n",
    "\n",
    "# next(pool)"
   ]
  },
  {
   "cell_type": "code",
   "execution_count": 13,
   "metadata": {},
   "outputs": [],
   "source": [
    "from itertools import islice\n",
    "import collections\n",
    "\n",
    "def consume(iterator, n=None):\n",
    "    \"Advance the iterator n-steps ahead. If n is None, consume entirely.\"\n",
    "    # Use functions that consume iterators at C speed.\n",
    "    if n is None:\n",
    "        # feed the entire iterator into a zero-length deque\n",
    "        collections.deque(iterator, maxlen=0)\n",
    "    else:\n",
    "        # advance to the empty slice starting at position n\n",
    "        next(islice(iterator, n, n), None)"
   ]
  },
  {
   "cell_type": "code",
   "execution_count": 14,
   "metadata": {},
   "outputs": [
    {
     "name": "stdout",
     "output_type": "stream",
     "text": [
      "1\n",
      "2\n",
      "lose\n"
     ]
    }
   ],
   "source": [
    "# lets assume that input was B (paper) and your response was C (scissors)\n",
    "pool = cycle(define_input)\n",
    "\n",
    "consume(pool, 1) ##pool cycle is at paper\n",
    "count=0\n",
    "# next(pool)\n",
    "while next(pool) != 'A': ##go until response\n",
    "    count +=1\n",
    "    print(count)\n",
    "    # next(pool)\n",
    "    # print(next(pool))\n",
    "if count == 0:\n",
    "    print('tie')\n",
    "elif count ==1:\n",
    "    print('win')\n",
    "else: ##count ==2\n",
    "    print('lose')"
   ]
  },
  {
   "cell_type": "code",
   "execution_count": 77,
   "metadata": {},
   "outputs": [],
   "source": [
    "# function evaluating win, loss, or tie in RPS\n",
    "\n",
    "\n",
    "def score_game(moves: tuple):\n",
    "    # display(moves[0], moves[1])\n",
    "    define_input = ['A', 'B', 'C']\n",
    "    define_response = ['X', 'Y', 'Z']\n",
    "    RPS_dict = dict(zip(define_response, define_input))\n",
    "    response_translated = RPS_dict[moves[1]]\n",
    "\n",
    "    pool = cycle(define_input)\n",
    "    consume(pool, define_input.index(moves[0])) ##iterate through cycle until you get to correct starting index\n",
    "    count=0\n",
    "    while next(pool) != response_translated: ##go until response\n",
    "        count +=1\n",
    "        if count >2:\n",
    "            break\n",
    "        # print(count)\n",
    "    if count == 0:\n",
    "        # print('tie')\n",
    "        game_score = 3\n",
    "    elif count ==1:\n",
    "        # print('win')\n",
    "        game_score = 6\n",
    "    elif count ==2:\n",
    "        # print('lose')\n",
    "        game_score = 0\n",
    "    else:\n",
    "        print('inf loop')\n",
    "    return game_score\n",
    "\n",
    "    \n",
    "\n",
    "# score_game(list_matches[0])\n",
    "\n"
   ]
  },
  {
   "cell_type": "code",
   "execution_count": 78,
   "metadata": {},
   "outputs": [
    {
     "data": {
      "text/plain": [
       "'C'"
      ]
     },
     "execution_count": 78,
     "metadata": {},
     "output_type": "execute_result"
    }
   ],
   "source": [
    "# define_input.index('A')\n",
    "pool = cycle(define_input)\n",
    "consume(pool, define_input.index('C'))\n",
    "next(pool)"
   ]
  },
  {
   "cell_type": "code",
   "execution_count": 79,
   "metadata": {},
   "outputs": [
    {
     "data": {
      "text/plain": [
       "0"
      ]
     },
     "execution_count": 79,
     "metadata": {},
     "output_type": "execute_result"
    }
   ],
   "source": [
    "input = ('A', 'Z')\n",
    "input[1]\n",
    "score_game(input)\n",
    "\n",
    "# if input == 'A', and response = 'Y', you want to find out how many iterations ahead the response is from input"
   ]
  },
  {
   "cell_type": "code",
   "execution_count": 80,
   "metadata": {},
   "outputs": [],
   "source": [
    "# score for response you selected. 1 for Rock, 2 for Paper, and 3 for Scissors\n",
    "def score_shape(response):\n",
    "    if response == 'X':\n",
    "        score =1\n",
    "    elif response == 'Y':\n",
    "        score =2\n",
    "    else:\n",
    "        score =3\n",
    "    return score"
   ]
  },
  {
   "cell_type": "code",
   "execution_count": 83,
   "metadata": {},
   "outputs": [
    {
     "data": {
      "text/plain": [
       "12535"
      ]
     },
     "execution_count": 83,
     "metadata": {},
     "output_type": "execute_result"
    }
   ],
   "source": [
    "your_total_score = 0\n",
    "for match in list_matches:\n",
    "    # score_game(match)\n",
    "    # print(score_shape(match[1]))\n",
    "\n",
    "    round_score = (score_game(match)+score_shape(match[1]))\n",
    "    your_total_score += round_score\n",
    "\n",
    "your_total_score"
   ]
  },
  {
   "cell_type": "markdown",
   "metadata": {},
   "source": [
    "## [Day 2 part 2](https://adventofcode.com/2022/day/2): Rock paper scissors\n",
    "\n",
    "\n",
    "- **Input**: each row is other players input (ABC) and the result of the round (X means you lose, Y means you tie, and Z means you win)"
   ]
  },
  {
   "cell_type": "code",
   "execution_count": 74,
   "metadata": {},
   "outputs": [
    {
     "name": "stdout",
     "output_type": "stream",
     "text": [
      "----------------------------------------------------------------------------------------------------\n",
      "AOC2022/input2.txt ➜ 10000 chars, 2500 lines; first 7 lines:\n",
      "----------------------------------------------------------------------------------------------------\n",
      "A Z\n",
      "A Z\n",
      "A Z\n",
      "B Z\n",
      "C X\n",
      "A Z\n",
      "A Z\n",
      "----------------------------------------------------------------------------------------------------\n",
      "parse(2) ➜ 2500 entries:\n",
      "----------------------------------------------------------------------------------------------------\n",
      "(('A', 'Z'), ('A', 'Z'), ('A', 'Z'), ('B', 'Z'), ('C', 'X'), ('A', 'Z' ... , ('B', 'Z'), ('A', 'Z'))\n",
      "----------------------------------------------------------------------------------------------------\n"
     ]
    }
   ],
   "source": [
    "parse(2,atoms)\n",
    "\n",
    "def score_game2(moves: tuple):\n",
    "    define_input = ['A', 'B', 'C']\n",
    "    define_result_round = ['X', 'Y', 'Z']\n",
    "\n",
    "    pool = cycle(define_input)\n",
    "    ##behavior of consume is such that the following time you call next(pool will give you whatever move moves[0] is)\n",
    "    consume(pool, define_input.index(moves[0])) ##iterate through cycle until you get to correct starting index for first player\n",
    "    \n",
    "    if moves[1] == 'Y':\n",
    "        # print('tie')\n",
    "        game_score = 3\n",
    "    elif moves[1] == 'Z':\n",
    "        # print('win')\n",
    "        game_score = 6\n",
    "    elif moves[1] == 'X':\n",
    "        # print('lose')\n",
    "        game_score = 0\n",
    "    else:\n",
    "        print('error in result given')\n",
    "    return game_score\n",
    "\n",
    "def determine_response_move(moves: tuple):\n",
    "    define_input = ['A', 'B', 'C']\n",
    "    define_result_round = ['X', 'Y', 'Z']\n",
    "    pool = cycle(define_input)\n",
    "    consume(pool, define_input.index(moves[0])) ##cycle through pool until the next(pool) will give you moves[0]\n",
    "    \n",
    "    if moves[1] == 'Y':\n",
    "        # print('tie')\n",
    "        num_steps_to_advance=0\n",
    "    elif moves[1] == 'Z':\n",
    "        # print('win')\n",
    "        num_steps_to_advance=1\n",
    "    elif moves[1] == 'X':\n",
    "        # print('lose')\n",
    "        num_steps_to_advance=2\n",
    "    else:\n",
    "        print('error in result given')\n",
    "        num_steps_to_advance=None\n",
    "\n",
    "    for i in range(num_steps_to_advance+1): ##neec +1 to account for the fact taht moves[0] needs to get passed first\n",
    "        response_move = next(pool)\n",
    "\n",
    "    return response_move ##given in ABC format\n",
    "\n",
    "def score_shape2(response):\n",
    "    if response == 'A':\n",
    "        score =1\n",
    "    elif response == 'B':\n",
    "        score =2\n",
    "    else:\n",
    "        score =3 ##response is C\n",
    "    return score\n",
    "\n",
    "def score_total2(list_of_matches):\n",
    "    your_total_score=0\n",
    "    for match in list_matches:\n",
    "        round_score = score_game2(match)+score_shape2(determine_response_move(match))\n",
    "        your_total_score += round_score\n",
    "    return your_total_score"
   ]
  },
  {
   "cell_type": "code",
   "execution_count": 73,
   "metadata": {},
   "outputs": [
    {
     "data": {
      "text/plain": [
       "15457"
      ]
     },
     "execution_count": 73,
     "metadata": {},
     "output_type": "execute_result"
    }
   ],
   "source": [
    "score_shape2(determine_response_move(list_matches[7]))\n",
    "score_game2(list_matches[7])\n",
    "\n",
    "your_total_score2 = 0\n",
    "for match in list_matches:\n",
    "    # score_game(match)\n",
    "    # print(score_shape(match[1]))\n",
    "\n",
    "    round_score = score_game2(match)+score_shape2(determine_response_move(match))\n",
    "    your_total_score2 += round_score\n",
    "your_total_score2"
   ]
  },
  {
   "cell_type": "code",
   "execution_count": 76,
   "metadata": {},
   "outputs": [
    {
     "data": {
      "text/plain": [
       "15457"
      ]
     },
     "execution_count": 76,
     "metadata": {},
     "output_type": "execute_result"
    }
   ],
   "source": [
    "score_total2(list_matches) ##answer to day 2 part 2"
   ]
  }
 ],
 "metadata": {
  "kernelspec": {
   "display_name": "Python 3.9.12 ('base')",
   "language": "python",
   "name": "python3"
  },
  "language_info": {
   "codemirror_mode": {
    "name": "ipython",
    "version": 3
   },
   "file_extension": ".py",
   "mimetype": "text/x-python",
   "name": "python",
   "nbconvert_exporter": "python",
   "pygments_lexer": "ipython3",
   "version": "3.9.12"
  },
  "vscode": {
   "interpreter": {
    "hash": "7846532a7d7c0664cef14b2ab33b5ea1c09bbc24cb965a4e7f41d654567888d5"
   }
  }
 },
 "nbformat": 4,
 "nbformat_minor": 4
}
